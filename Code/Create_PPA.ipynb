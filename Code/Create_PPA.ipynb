{
 "cells": [
  {
   "cell_type": "markdown",
   "id": "b8bd9232-baee-48b5-990c-9a01b15874be",
   "metadata": {},
   "source": [
    "# ORTEGA write PPAs\n",
    "* This notebook is used to generate trajectory into PPAs. The output dataframe is written as a parquet file.  \n",
    "* Shapefile is written into another parquet seperately. \n",
    "* Renamed ```aggr_std_ellipse``` to ```geom_ppa``` for clarity"
   ]
  },
  {
   "cell_type": "markdown",
   "id": "bb11bd46-c2ea-4348-b9e9-3139f4d2a6e9",
   "metadata": {},
   "source": [
    "## Set up\n",
    "Require an Esri ArcGIS GeoAnlytics Engine account, with username and password written in ```notebook.cfg```"
   ]
  },
  {
   "cell_type": "code",
   "execution_count": 1,
   "id": "d8e435f5-7d77-4dd4-8d13-1b1ffa92e655",
   "metadata": {},
   "outputs": [],
   "source": [
    "# Set up secrets auth\n",
    "from configparser import ConfigParser\n",
    "parser = ConfigParser()\n",
    "_ = parser.read('../../notebook.cfg')\n",
    "gae_user = parser.get('Engine', 'user')\n",
    "gae_pass = parser.get('Engine', 'auth')"
   ]
  },
  {
   "cell_type": "code",
   "execution_count": 2,
   "id": "d4baf5cd-567d-403c-ab19-8eee847871a2",
   "metadata": {},
   "outputs": [],
   "source": [
    "# Imports\n",
    "import geoanalytics\n",
    "import geoanalytics.sql.functions as ST\n",
    "import pyspark.sql.types as PyType\n",
    "\n",
    "from pyspark.sql.types import *\n",
    "from pyspark.sql.functions import udf\n",
    "from pyspark.sql import SparkSession, DataFrame, functions as F\n",
    "import math"
   ]
  },
  {
   "cell_type": "code",
   "execution_count": 3,
   "id": "6871b1ff-d259-43e9-9b42-7d77d87d1f53",
   "metadata": {},
   "outputs": [
    {
     "name": "stdout",
     "output_type": "stream",
     "text": [
      "GeoAnalytics v.1.2.0.1291 awesome is enabled\n"
     ]
    }
   ],
   "source": [
    "# Sign into GeoAnalytics Enginemail\n",
    "geoanalytics.auth(username=gae_user, password=gae_pass)\n",
    "print(f\"GeoAnalytics v.{geoanalytics.version()} awesome is enabled\")"
   ]
  },
  {
   "cell_type": "code",
   "execution_count": 4,
   "id": "2f4859cb-0762-4b51-bc3e-108f1e16cbe5",
   "metadata": {},
   "outputs": [
    {
     "data": {
      "text/plain": [
       "2233653"
      ]
     },
     "execution_count": 4,
     "metadata": {},
     "output_type": "execute_result"
    }
   ],
   "source": [
    "df = spark.read.csv(r\"../Data/Vulture_context_status.csv\", header=True)\n",
    "df.count()"
   ]
  },
  {
   "cell_type": "markdown",
   "id": "0a890d0b-3720-479e-8a45-0c2e98f302fe",
   "metadata": {},
   "source": [
    "### Global settings"
   ]
  },
  {
   "cell_type": "code",
   "execution_count": 5,
   "id": "8d730448-f99e-4e23-8676-3f983a5149f9",
   "metadata": {},
   "outputs": [],
   "source": [
    "# Very large PPAs that were generated due to data gaps is defined as \n",
    "# \"larger than three times the standard deviation of the sampling intervals\", \n",
    "# so we set it to 60 + 3*24.95 = 135 mins\n",
    "LARGE_TIME_DELTA = 8100 # in seconds; 135 min\n",
    "\n",
    "timestamp_field = \"study-local-timestamp\"\n",
    "longitude_field = \"location-long\"\n",
    "latitude_field = \"location-lat\"\n",
    "id_field = \"individual-local-identifier\"\n",
    "num_field = \"event-id\"\n",
    "speed_field = \"speed\"\n",
    "\n",
    "# Earth radius in KM\n",
    "R = 6371 # km"
   ]
  },
  {
   "cell_type": "markdown",
   "id": "913b1f72-c5e9-40aa-a4d2-da0e7acf8fca",
   "metadata": {},
   "source": [
    "### Create PPA Parquet"
   ]
  },
  {
   "cell_type": "code",
   "execution_count": 6,
   "id": "86be2707-dade-4601-a301-2cbfc87edb5b",
   "metadata": {},
   "outputs": [
    {
     "name": "stdout",
     "output_type": "stream",
     "text": [
      "Feature count: 2233653\n",
      "root\n",
      " |-- _c0: string (nullable = true)\n",
      " |-- Unnamed: 0: string (nullable = true)\n",
      " |-- event-id: string (nullable = true)\n",
      " |-- visible: string (nullable = true)\n",
      " |-- timestamp: string (nullable = true)\n",
      " |-- location-long: string (nullable = true)\n",
      " |-- location-lat: string (nullable = true)\n",
      " |-- algorithm-marked-outlier: string (nullable = true)\n",
      " |-- external-temperature: string (nullable = true)\n",
      " |-- gps:hdop: string (nullable = true)\n",
      " |-- gps:satellite-count: string (nullable = true)\n",
      " |-- gps-time-to-fix: string (nullable = true)\n",
      " |-- gps:vdop: string (nullable = true)\n",
      " |-- ground-speed: string (nullable = true)\n",
      " |-- gt:activity-count: string (nullable = true)\n",
      " |-- gt:sys-week: string (nullable = true)\n",
      " |-- gt:tx-count: string (nullable = true)\n",
      " |-- heading: string (nullable = true)\n",
      " |-- height-above-ellipsoid: string (nullable = true)\n",
      " |-- height-raw: string (nullable = true)\n",
      " |-- import-marked-outlier: string (nullable = true)\n",
      " |-- location-error-text: string (nullable = true)\n",
      " |-- manually-marked-outlier: string (nullable = true)\n",
      " |-- mw:activity-count: string (nullable = true)\n",
      " |-- mw:show-in-kml: string (nullable = true)\n",
      " |-- raptor-workshop:migration-state: string (nullable = true)\n",
      " |-- tag-battery-voltage: string (nullable = true)\n",
      " |-- tag-voltage: string (nullable = true)\n",
      " |-- vertical-error-numerical: string (nullable = true)\n",
      " |-- sensor-type: string (nullable = true)\n",
      " |-- individual-taxon-canonical-name: string (nullable = true)\n",
      " |-- tag-local-identifier: string (nullable = true)\n",
      " |-- individual-local-identifier: string (nullable = true)\n",
      " |-- study-name: string (nullable = true)\n",
      " |-- utm-easting: string (nullable = true)\n",
      " |-- utm-northing: string (nullable = true)\n",
      " |-- utm-zone: string (nullable = true)\n",
      " |-- study-timezone: string (nullable = true)\n",
      " |-- study-local-timestamp: string (nullable = true)\n",
      " |-- stepLength: string (nullable = true)\n",
      " |-- duration: string (nullable = true)\n",
      " |-- speed: string (nullable = true)\n",
      " |-- geometry: string (nullable = true)\n",
      " |-- proj_lon: string (nullable = true)\n",
      " |-- proj_lat: string (nullable = true)\n",
      " |-- study-site: string (nullable = true)\n",
      " |-- MODIS Land Vegetation Indices 250m 16d Terra NDVI: string (nullable = true)\n",
      " |-- ECMWF ERA5 SL Wind (10 m above Ground U Component): string (nullable = true)\n",
      " |-- ECMWF ERA5 SL Temperature (2 m above Ground): string (nullable = true)\n",
      " |-- ECMWF ERA5 SL Wind (10 m above Ground V Component): string (nullable = true)\n",
      " |-- study_site: string (nullable = true)\n",
      " |-- animal_comments: string (nullable = true)\n",
      " |-- BG_coords: string (nullable = true)\n",
      " |-- NBG_coords: string (nullable = true)\n",
      " |-- distance_to_BG: string (nullable = true)\n",
      " |-- distance_to_NBG: string (nullable = true)\n",
      "\n"
     ]
    }
   ],
   "source": [
    "print(f\"Feature count: {df.persist().count()}\")\n",
    "df.printSchema()"
   ]
  },
  {
   "cell_type": "code",
   "execution_count": 7,
   "id": "3c3cebd2-96bb-4ede-90aa-574217875252",
   "metadata": {},
   "outputs": [
    {
     "name": "stdout",
     "output_type": "stream",
     "text": [
      "+-------------------+--------------------+\n",
      "|          timestamp|            geometry|\n",
      "+-------------------+--------------------+\n",
      "|2018-06-05 19:00:00|{\"x\":-124.143,\"y\"...|\n",
      "|2018-06-05 20:00:00|{\"x\":-124.1545,\"y...|\n",
      "|2018-06-05 21:00:00|{\"x\":-124.12483,\"...|\n",
      "|2018-06-05 22:00:00|{\"x\":-124.1245,\"y...|\n",
      "|2018-06-05 23:00:00|{\"x\":-124.125,\"y\"...|\n",
      "+-------------------+--------------------+\n",
      "only showing top 5 rows\n",
      "\n"
     ]
    }
   ],
   "source": [
    "# create timestamp & geometry\n",
    "spark.conf.set(\"spark.sql.legacy.timeParserPolicy\", \"LEGACY\")\n",
    "df = df\\\n",
    "    .withColumnRenamed(\"timestamp\", \"timestamp_orig\")\\\n",
    "    .withColumn(\"timestamp\", F.to_timestamp(F.col(timestamp_field), \"yyyy-MM-dd HH:mm:ss\")) \\\n",
    "    .withColumn(\"geometry\", ST.srid(ST.point(longitude_field, latitude_field), 4326))\n",
    "\n",
    "# proof of concept that both created correctly (e.g., not nulled)\n",
    "df.select(\"timestamp\", \"geometry\").show(5)"
   ]
  },
  {
   "cell_type": "markdown",
   "id": "4e66defb-8706-45c6-93e6-1c18c9fd30e7",
   "metadata": {},
   "source": [
    "### Process Environmental Variables\n",
    "- NDVI, Temperature: interpolate if Nan\n",
    "- Tailwind, Crosswind: generate from U/V wind and heading\n",
    "- **Thermal uplift: will annotated from Movebank after getting all intersecting ellipses**, as the platform can only handle around 10,000 points for each file"
   ]
  },
  {
   "cell_type": "code",
   "execution_count": 8,
   "id": "7a86fa9d-7c01-4d5d-8d47-6d02ab39ace4",
   "metadata": {},
   "outputs": [],
   "source": [
    "# df.where(F.col(\"MODIS Land Vegetation Indices 250m 16d Terra NDVI\").isNull()).count() #1866\n",
    "# Fill missing values with zero\n",
    "df = df.na.fill({'MODIS Land Vegetation Indices 250m 16d Terra NDVI': 0})\n",
    "# Rename the NDVI column and cast it to double\n",
    "# Rename temperature column\n",
    "df = df.withColumn(\"NDVI\", F.col(\"MODIS Land Vegetation Indices 250m 16d Terra NDVI\").cast(\"double\"))\\\n",
    "        .withColumn(\"Temp\", F.col(\"ECMWF ERA5 SL Temperature (2 m above Ground)\").cast(\"double\"))\\\n",
    "        .drop(\"MODIS Land Vegetation Indices 250m 16d Terra NDVI\", \"ECMWF ERA5 SL Temperature (2 m above Ground)\")"
   ]
  },
  {
   "cell_type": "code",
   "execution_count": 9,
   "id": "df59fbc8-b439-4595-971a-0c879b0e580a",
   "metadata": {},
   "outputs": [],
   "source": [
    "# Normalize heading to 0°-360° range and convert to radians\n",
    "# Calculate tailwind and crosswind\n",
    "df = df.withColumn(\"heading_rad\", \n",
    "                   F.radians(F.col(\"heading\").cast(\"long\") % 360))\\\n",
    "       .withColumn(\"tailwind\", \n",
    "                   - F.col(\"ECMWF ERA5 SL Wind (10 m above Ground U Component)\") * F.sin(F.col(\"heading_rad\"))\n",
    "                   + F.col(\"ECMWF ERA5 SL Wind (10 m above Ground V Component)\") * F.cos(F.col(\"heading_rad\")))\\\n",
    "       .withColumn(\"crosswind\",\n",
    "                   F.col(\"ECMWF ERA5 SL Wind (10 m above Ground U Component)\") * F.cos(F.col(\"heading_rad\"))\n",
    "                   - F.col(\"ECMWF ERA5 SL Wind (10 m above Ground V Component)\") * F.sin(F.col(\"heading_rad\")))\\\n",
    "        .drop(\"ECMWF ERA5 SL Wind (10 m above Ground U Component)\", \"ECMWF ERA5 SL Wind (10 m above Ground V Component)\")"
   ]
  },
  {
   "cell_type": "code",
   "execution_count": 10,
   "id": "25c933a7-ded6-426a-9a8d-ea451e0f42a5",
   "metadata": {},
   "outputs": [
    {
     "name": "stdout",
     "output_type": "stream",
     "text": [
      "+---------------------------+------------------+\n",
      "|individual-local-identifier|null_heading_count|\n",
      "+---------------------------+------------------+\n",
      "|                 Butterball|              1769|\n",
      "|                   Blizzard|              2197|\n",
      "|                  Duck Lake|              2677|\n",
      "|                     Disney|             20829|\n",
      "|                      Ethan|              7129|\n",
      "|                       Hugh|              9071|\n",
      "|                       Irma|             14361|\n",
      "|                        Leo|             18808|\n",
      "|                    Morongo|             20752|\n",
      "|                        Mac|             11896|\n",
      "|                      Prado|             20966|\n",
      "|                    Rosalie|             23931|\n",
      "|                     Ranger|              2697|\n",
      "|                 Schaumboch|              3323|\n",
      "|                       Sill|              2696|\n",
      "|                     Sarkis|              8960|\n",
      "+---------------------------+------------------+\n",
      "\n"
     ]
    }
   ],
   "source": [
    "df.where(df.heading.isNull())\\\n",
    "                .groupBy(id_field)\\\n",
    "                .agg(F.count(F.lit(1)).alias(\"null_heading_count\")).show()"
   ]
  },
  {
   "cell_type": "code",
   "execution_count": 39,
   "id": "a9ee728a-bac4-442a-95f6-de0eeeffe434",
   "metadata": {},
   "outputs": [],
   "source": [
    "subdf = df.select(num_field, id_field, latitude_field, longitude_field, \"timestamp\", \"geometry\",\n",
    "                  speed_field, \"NDVI\", \"Temp\", \"tailwind\", \"crosswind\")"
   ]
  },
  {
   "cell_type": "markdown",
   "id": "a3418803-14c5-49e1-af98-486097d9f211",
   "metadata": {},
   "source": [
    "## Calculate PPA"
   ]
  },
  {
   "cell_type": "markdown",
   "id": "27b6e544-d1ba-49c3-ba59-fd4d2a09fc1d",
   "metadata": {},
   "source": [
    "- speed valid: filter out delta_time > 3600, set them to zero\n",
    "- weighted speed: multiply by weight, remove zero speed"
   ]
  },
  {
   "cell_type": "code",
   "execution_count": 40,
   "id": "2296c55c-4c83-49ea-b37f-3c3bc6acecb9",
   "metadata": {},
   "outputs": [],
   "source": [
    "from pyspark.sql.window import Window\n",
    "from pyspark.sql.types import *"
   ]
  },
  {
   "cell_type": "code",
   "execution_count": 41,
   "id": "9a418a23-55c2-45cc-bb3c-bf3bcf57ab95",
   "metadata": {},
   "outputs": [],
   "source": [
    "window = Window.partitionBy(id_field).orderBy(\"timestamp\")\n",
    "window_5 = Window.rowsBetween(-4, 0)"
   ]
  },
  {
   "cell_type": "code",
   "execution_count": 42,
   "id": "9dfd1730-d88f-4d05-91ac-b85597788475",
   "metadata": {},
   "outputs": [],
   "source": [
    "# add prev_ environmental data at this step as well\n",
    "subdf = subdf.withColumn(\"prev_NDVI\", F.lag(\"NDVI\").over(window))\\\n",
    "    .withColumn(\"prev_Temp\", F.lag(\"Temp\").over(window))\\\n",
    "    .withColumn(\"prev_tailwind\", F.lag(\"tailwind\").over(window))\\\n",
    "    .withColumn(\"prev_crosswind\", F.lag(\"crosswind\").over(window))"
   ]
  },
  {
   "cell_type": "code",
   "execution_count": 43,
   "id": "561031fe-4dcd-4cc6-a75a-8a673d949d62",
   "metadata": {},
   "outputs": [
    {
     "name": "stdout",
     "output_type": "stream",
     "text": [
      "CPU times: total: 0 ns\n",
      "Wall time: 127 ms\n"
     ]
    }
   ],
   "source": [
    "%%time\n",
    "subdf = subdf.withColumn(\"prev_lat\", F.lag(latitude_field).over(window))\\\n",
    "    .withColumn(\"prev_long\", F.lag(longitude_field).over(window))\\\n",
    "    .withColumn(\"prev_timestamp\", F.lag(\"timestamp\").over(window))\\\n",
    "    .withColumn(\"prev_speed\", F.lag(speed_field).over(window))\\\n",
    "    .withColumn(\"point_current\", ST.point(longitude_field, latitude_field, 4326))\\\n",
    "    .withColumn(\"point_previous\", ST.point(\"prev_long\", \"prev_lat\", 4326))\\\n",
    "    .withColumn(\"distance\", ST.geodesic_distance(\"point_current\", \"point_previous\"))\\\n",
    "    .withColumn(\"delta_time\", (F.unix_timestamp(\"timestamp\") - F.unix_timestamp(\"prev_timestamp\")))\\\n",
    "    .withColumn(\"new_speed_mps\", F.col(\"distance\")/F.col(\"delta_time\")*1.25)\\\n",
    "    .withColumn(\"prev_new_speed_mps\", F.lag(\"new_speed_mps\").over(window))\\\n",
    "    .withColumn(\"previous_five_speed\", F.collect_list(\"new_speed_mps\").over(window_5))"
   ]
  },
  {
   "cell_type": "code",
   "execution_count": 44,
   "id": "b477d924-2b4c-4a1c-8438-9cff7e34db0b",
   "metadata": {},
   "outputs": [],
   "source": [
    "# udf to calculate weighted speed\n",
    "def weighted_speed(speeds, lambda_val = 0.5, epsilon = 1.25):\n",
    "    try: \n",
    "        si = 0.0\n",
    "        for k, speed in enumerate(speeds):\n",
    "            if speed is not None and speed >= 0:\n",
    "                si += (lambda_val * (1- lambda_val)**k * speed)\n",
    "        vmax = epsilon * si\n",
    "        return vmax\n",
    "    except Exception as e:\n",
    "        print(\"Error calculating weighted speed:\", e)\n",
    "        return None\n",
    "    \n",
    "get_weighted_speed = F.udf(weighted_speed, PyType.DoubleType())"
   ]
  },
  {
   "cell_type": "markdown",
   "id": "6f69c259-0b7f-4393-859c-a0bcf6ef0b6c",
   "metadata": {},
   "source": [
    "when lambda_val = 0.5, five points contribute to around 95% of the total weight in an exponential moving average"
   ]
  },
  {
   "cell_type": "code",
   "execution_count": 45,
   "id": "69badd68-431b-4f21-8861-379acb2a0ffe",
   "metadata": {},
   "outputs": [
    {
     "name": "stdout",
     "output_type": "stream",
     "text": [
      "CPU times: total: 0 ns\n",
      "Wall time: 73 ms\n"
     ]
    }
   ],
   "source": [
    "%%time\n",
    "subdf = subdf.withColumn(\"average_speed\", get_weighted_speed(\"previous_five_speed\", F.lit(0.5), F.lit(1.25)))\\\n",
    "    .withColumn(\"major_axis\", F.col(\"delta_time\") * F.greatest(*[\"new_speed_mps\", \"average_speed\"]))\\\n",
    "    .withColumn(\"minor_axis\", F.sqrt(F.pow(\"major_axis\", 2) - F.pow(\"distance\", 2)))\\\n",
    "    .withColumn(\"angle\", ST.azimuth(\"point_previous\", \"point_current\"))"
   ]
  },
  {
   "cell_type": "markdown",
   "id": "b2d3876a-6b3e-40b6-9252-8a82aebc1c5a",
   "metadata": {},
   "source": [
    "### Calculate the midpoint along geodesic between two locations\n",
    "Equation from https://www.movable-type.co.uk/scripts/latlong.html"
   ]
  },
  {
   "cell_type": "code",
   "execution_count": 46,
   "id": "7a513f5a-e5d5-4240-86b0-273cf9395550",
   "metadata": {},
   "outputs": [],
   "source": [
    "Bx = F.cos(F.radians(F.col(\"prev_lat\"))) * F.cos(F.radians(F.col(\"prev_long\")) - F.radians(F.col(longitude_field)))\n",
    "By = F.cos(F.radians(F.col(\"prev_lat\"))) * F.sin(F.radians(F.col(\"prev_long\")) - F.radians(F.col(longitude_field)))\n",
    "\n",
    "midpoint_lat = F.degrees(F.atan2(F.sin(F.radians(F.col(latitude_field))) + F.sin(F.radians(F.col(\"prev_lat\"))), \n",
    "                       F.sqrt( (F.cos(F.radians(F.col(latitude_field))) + Bx) * (F.cos(F.radians(F.col(latitude_field))) + Bx) + By*By)))\n",
    "\n",
    "midpoint_long = F.degrees(F.radians(F.col(longitude_field)) + F.atan2(By, F.cos(F.radians(F.col(latitude_field))) + Bx))\n"
   ]
  },
  {
   "cell_type": "code",
   "execution_count": 47,
   "id": "8f709540-b023-447d-8912-b5daf331b55f",
   "metadata": {},
   "outputs": [],
   "source": [
    "subdf = subdf\\\n",
    "    .withColumn(\"midpoint_lat\", midpoint_lat)\\\n",
    "    .withColumn(\"midpoint_long\", midpoint_long)\\\n",
    "    .withColumn(\"midpoint_point\", ST.point(\"midpoint_long\", \"midpoint_lat\", 4326))"
   ]
  },
  {
   "cell_type": "code",
   "execution_count": 48,
   "id": "5f009f66-745c-4d49-bdff-59bd84ecaa76",
   "metadata": {},
   "outputs": [],
   "source": [
    "# subdf.select(num_field, \"delta_time\", \"distance\", \"point_current\", \"point_previous\", \"midpoint_lat\", \"midpoint_long\").show(5, truncate=False)"
   ]
  },
  {
   "cell_type": "code",
   "execution_count": 49,
   "id": "a91ea8a4-ddb7-48b1-af1c-a1410bc3736c",
   "metadata": {},
   "outputs": [],
   "source": [
    "# subdf.where(F.col(num_field) == 1039653378)\\\n",
    "# .select(num_field, \"delta_time\", \"distance\", \"point_current\", \"point_previous\", \"midpoint_lat\", \"midpoint_long\")\\\n",
    "# .show()"
   ]
  },
  {
   "cell_type": "markdown",
   "id": "88bbd912-0c42-41dd-a156-18070a7c0ebe",
   "metadata": {},
   "source": [
    "#### Remove rows with large data gaps"
   ]
  },
  {
   "cell_type": "code",
   "execution_count": 50,
   "id": "5530a15e-e672-4093-87f0-d90a18aa6bba",
   "metadata": {},
   "outputs": [],
   "source": [
    "# calculate std\n",
    "subdf = subdf.withColumn(\"time_diff\", (F.unix_timestamp(\"timestamp\")- F.unix_timestamp(\"prev_timestamp\"))/60)\n",
    "std_dev_df = subdf.groupBy(id_field).agg(\n",
    "    F.stddev(\"time_diff\").alias(\"std_dev_sampling_interval\")\n",
    ")\n",
    "# std_dev_df.show()"
   ]
  },
  {
   "cell_type": "markdown",
   "id": "0d8f6955-9703-47df-8a0f-1ef84e5bebe8",
   "metadata": {},
   "source": [
    "Very large PPAs that were generated due to data gaps is defined as \"larger than three times the standard deviation of the sampling intervals\", so we set it to 60 + 3*24.95 = 135 mins"
   ]
  },
  {
   "cell_type": "code",
   "execution_count": 51,
   "id": "8afe32f1-f660-4876-8166-1ceaf8ba4f14",
   "metadata": {},
   "outputs": [],
   "source": [
    "# clean out the elements with null previous location or timestamp (no need to calculate ppas for these)\n",
    "subdf = subdf.filter(subdf.prev_lat.isNotNull())\\\n",
    "             .filter(subdf.prev_timestamp.isNotNull())\n",
    "\n",
    "# clean out stationary points where angle is null, no need to calculate ppas for these\n",
    "subdf = subdf.filter(~(F.col(\"angle\").isNull() | F.isnan(F.col(\"angle\"))))\n",
    "\n",
    "# clean out very large delta time\n",
    "subdf = subdf.filter(subdf.delta_time <= LARGE_TIME_DELTA) # 135 mins"
   ]
  },
  {
   "cell_type": "code",
   "execution_count": 52,
   "id": "a5a5c2d1-4315-4fc5-aa20-fbca33ca16be",
   "metadata": {},
   "outputs": [
    {
     "data": {
      "text/plain": [
       "1861815"
      ]
     },
     "execution_count": 52,
     "metadata": {},
     "output_type": "execute_result"
    }
   ],
   "source": [
    "subdf.persist().count()"
   ]
  },
  {
   "cell_type": "code",
   "execution_count": 53,
   "id": "a766bc81-3193-4b1a-9bcc-8a60cf74809a",
   "metadata": {},
   "outputs": [],
   "source": [
    "# # Just checking midpoint results for one event\n",
    "\n",
    "# eventid = 1013238207\n",
    "# # the geodesic\n",
    "# myplt = subdf.where(F.col(num_field) == eventid)\\\n",
    "#     .select(ST.geodesic_shortest_line(\"point_previous\", \"point_current\")).st.plot(color=\"grey\")\n",
    "\n",
    "# # the current/prev points\n",
    "# subdf.where(F.col(num_field) == eventid)\\\n",
    "#     .select(\"point_current\")\\\n",
    "#     .st.plot(ax=myplt, color=\"black\", marker_size=20)\n",
    "# subdf.where(F.col(num_field) == eventid)\\\n",
    "#     .select(\"point_previous\")\\\n",
    "#     .st.plot(ax=myplt, color=\"black\", marker_size=20)\n",
    "\n",
    "# # the centerpoint\n",
    "# subdf.where(F.col(num_field) == eventid)\\\n",
    "#     .select(ST.point(\"midpoint_long\", \"midpoint_lat\", 4326))\\\n",
    "#     .st.plot(ax=myplt, color=\"red\", marker_size=20)"
   ]
  },
  {
   "cell_type": "markdown",
   "id": "0eab2a9a-e3aa-452e-bb72-7881b1186357",
   "metadata": {},
   "source": [
    "### Get points on ellipse given center point, bearing, and distance (1/2 major or minor axis)"
   ]
  },
  {
   "cell_type": "code",
   "execution_count": 54,
   "id": "1ad4ff66-bf01-4272-8867-27e51633b765",
   "metadata": {},
   "outputs": [
    {
     "name": "stdout",
     "output_type": "stream",
     "text": [
      "CPU times: total: 0 ns\n",
      "Wall time: 117 ms\n"
     ]
    }
   ],
   "source": [
    "%%time\n",
    "# get point given start, distance, and bearing\n",
    "\n",
    "################# Major axis\n",
    "major_axis_end1_y = F.degrees(F.asin(\\\n",
    "        F.sin(F.radians(F.col(\"midpoint_lat\"))) * F.cos((F.col(\"major_axis\")/2)/(R*1000)) + \\\n",
    "        F.cos(F.radians(F.col(\"midpoint_lat\"))) * F.sin((F.col(\"major_axis\")/2)/(R*1000)) * F.cos(F.radians(F.col(\"angle\")))))\n",
    "\n",
    "major_axis_end1_x = F.degrees(F.radians(F.col(\"midpoint_long\")) + \\\n",
    "    F.atan2(F.sin(F.radians(F.col(\"angle\"))) * F.sin(F.col(\"major_axis\")/2/(R*1000)) * F.cos(F.radians(F.col(\"midpoint_lat\"))),\n",
    "    F.cos(F.col(\"major_axis\")/2/(R*1000)) - F.sin(F.radians(F.col(\"midpoint_lat\"))) * F.sin(F.radians(major_axis_end1_y))))\n",
    "\n",
    "major_axis_end2_y = F.degrees(F.asin(\\\n",
    "        F.sin(F.radians(F.col(\"midpoint_lat\"))) * F.cos((F.col(\"major_axis\")/2)/(R*1000)) + \\\n",
    "        F.cos(F.radians(F.col(\"midpoint_lat\"))) * F.sin((F.col(\"major_axis\")/2)/(R*1000)) * F.cos(F.radians(F.col(\"angle\")+180))))\n",
    "\n",
    "major_axis_end2_x = F.degrees(F.radians(F.col(\"midpoint_long\")) + \\\n",
    "    F.atan2(F.sin(F.radians(F.col(\"angle\")+180)) * F.sin(F.col(\"major_axis\")/2/(R*1000)) * F.cos(F.radians(F.col(\"midpoint_lat\"))),\n",
    "    F.cos(F.col(\"major_axis\")/2/(R*1000)) - F.sin(F.radians(F.col(\"midpoint_lat\"))) * F.sin(F.radians(major_axis_end1_y))))\n",
    "\n",
    "major_axis_point1 = ST.point(major_axis_end1_x,  major_axis_end1_y, 4326)\n",
    "major_axis_point2 = ST.point(major_axis_end2_x,  major_axis_end2_y, 4326) \n",
    "\n",
    "################# Minor axis\n",
    "minor_axis_end1_y = F.degrees(F.asin(\\\n",
    "        F.sin(F.radians(F.col(\"midpoint_lat\")) * F.cos((F.col(\"minor_axis\")/2)/(R*1000)) + \\\n",
    "        F.cos(F.radians(F.col(\"midpoint_lat\"))) * F.sin((F.col(\"minor_axis\")/2)/(R*1000)) * F.cos(F.radians(F.col(\"angle\")+90)))))\n",
    "\n",
    "minor_axis_end1_x = F.degrees(F.radians(F.col(\"midpoint_long\")) + \\\n",
    "    F.atan2(F.sin(F.radians(F.col(\"angle\")+90)) * F.sin(F.col(\"minor_axis\")/2/(R*1000)) * F.cos(F.radians(F.col(\"midpoint_lat\"))),\n",
    "    F.cos(F.col(\"minor_axis\")/2/(R*1000)) - F.sin(F.radians(F.col(\"midpoint_lat\"))) * F.sin(F.radians(minor_axis_end1_y))))\n",
    "\n",
    "minor_axis_end2_y = F.degrees(F.asin(\\\n",
    "        F.sin(F.radians(F.col(\"midpoint_lat\")) * F.cos((F.col(\"minor_axis\")/2)/(R*1000)) + \\\n",
    "        F.cos(F.radians(F.col(\"midpoint_lat\"))) * F.sin((F.col(\"minor_axis\")/2)/(R*1000)) * F.cos(F.radians(F.col(\"angle\")-90)))))\n",
    "\n",
    "minor_axis_end2_x = F.degrees(F.radians(F.col(\"midpoint_long\")) + \\\n",
    "    F.atan2(F.sin(F.radians(F.col(\"angle\")-90)) * F.sin(F.col(\"minor_axis\")/2/(R*1000)) * F.cos(F.radians(F.col(\"midpoint_lat\"))),\n",
    "    F.cos(F.col(\"minor_axis\")/2/(R*1000)) - F.sin(F.radians(F.col(\"midpoint_lat\"))) * F.sin(F.radians(minor_axis_end1_y))))\n",
    "\n",
    "minor_axis_point1 = ST.point(minor_axis_end1_x,  minor_axis_end1_y, 4326)\n",
    "minor_axis_point2 = ST.point(minor_axis_end2_x,  minor_axis_end2_y, 4326) "
   ]
  },
  {
   "cell_type": "code",
   "execution_count": 55,
   "id": "1e876cbc-41e3-4cfd-9de6-08a516b0b9fc",
   "metadata": {},
   "outputs": [
    {
     "name": "stdout",
     "output_type": "stream",
     "text": [
      "CPU times: total: 0 ns\n",
      "Wall time: 76.1 ms\n"
     ]
    }
   ],
   "source": [
    "%%time\n",
    "# Probably don't need to calculate out the four columns individually unless you want to use those values elsewhere\n",
    "subdf = subdf.withColumn(\"major_axis_point1\", major_axis_point1)\\\n",
    "    .withColumn(\"major_axis_point2\", major_axis_point2)\\\n",
    "    .withColumn(\"minor_axis_point1\", minor_axis_point1)\\\n",
    "    .withColumn(\"minor_axis_point2\", minor_axis_point2)\\\n",
    "    .withColumn(\"axis_points\", F.array(major_axis_point1, major_axis_point2, minor_axis_point1, minor_axis_point2))"
   ]
  },
  {
   "cell_type": "code",
   "execution_count": 56,
   "id": "0fbc9e61-2567-42fb-a59f-e0cca53acb48",
   "metadata": {},
   "outputs": [],
   "source": [
    "# # just checking the bearing to make sure things are being calculated right\n",
    "# subdf.where(F.col(num_field) == 1013238207)\\\n",
    "#     .select(num_field, \"point_current\", \"point_previous\", \"midpoint_point\", ST.azimuth(\"point_current\", \"point_previous\").alias(\"curr_prev\"), \n",
    "#             ST.azimuth(\"midpoint_point\", \"point_previous\").alias(\"mid_prev\"),\n",
    "#            ST.azimuth(\"midpoint_point\", \"major_axis_point2\").alias(\"mid_pt2\"), ST.azimuth(\"midpoint_point\", \"major_axis_point1\").alias(\"mid_pt1\"), \"angle\").show()"
   ]
  },
  {
   "cell_type": "code",
   "execution_count": 57,
   "id": "00414ea1-eb21-4a8c-a360-a4fc69614f3c",
   "metadata": {},
   "outputs": [
    {
     "name": "stdout",
     "output_type": "stream",
     "text": [
      "CPU times: total: 0 ns\n",
      "Wall time: 14 ms\n"
     ]
    }
   ],
   "source": [
    "%%time\n",
    "# Spark 3.3.2\n",
    "subdf_explode = subdf.withColumn(\"axis_point\", F.explode(subdf.axis_points))"
   ]
  },
  {
   "cell_type": "code",
   "execution_count": 62,
   "id": "79d46048-a72d-4fd0-8962-bbdf33fab3a4",
   "metadata": {},
   "outputs": [
    {
     "name": "stdout",
     "output_type": "stream",
     "text": [
      "CPU times: total: 0 ns\n",
      "Wall time: 8.55 s\n"
     ]
    },
    {
     "data": {
      "text/plain": [
       "1861815"
      ]
     },
     "execution_count": 62,
     "metadata": {},
     "output_type": "execute_result"
    }
   ],
   "source": [
    "%%time\n",
    "# create df to hold the ellipses\n",
    "# these will be joined back to the original DF at the end just to put all of the values together\n",
    "ell = subdf_explode.groupBy(id_field, \"timestamp\")\\\n",
    "  .agg(\\\n",
    "      ST.aggr_stdev_ellipse(F.col(\"axis_point\")).alias(\"aggr_stdev_ellipse\"),\n",
    "      F.first(num_field).alias(\"seq_ell\"))\\\n",
    "  .withColumnRenamed(id_field, \"tag_ell\")\\\n",
    "  .withColumnRenamed(\"timestamp\", \"timestamp_ell\")\n",
    "ell.count()"
   ]
  },
  {
   "cell_type": "code",
   "execution_count": 63,
   "id": "cb23e7c9-ded3-43fd-b641-91bf0a62a1f8",
   "metadata": {},
   "outputs": [
    {
     "name": "stdout",
     "output_type": "stream",
     "text": [
      "+------------------+------------------+----------+\n",
      "|        major_axis|        minor_axis|  event-id|\n",
      "+------------------+------------------+----------+\n",
      "| 4849.529693082667|2909.7178158496004|6211633692|\n",
      "| 7006.142248563624|4203.6853491381735|6211633693|\n",
      "| 2693.750819527132|2693.5755237688395|6211633694|\n",
      "| 5230.472221322735|5230.3041615977145|6211633695|\n",
      "| 4400.353645011995| 4400.298756840663|6211633697|\n",
      "| 43.62274235375436| 41.89654515305363|6211633698|\n",
      "| 69.48278869735077| 41.68967321841047|6211633699|\n",
      "| 8594.967109115665|   5156.9802654694|6216957535|\n",
      "|16481.212519035682|  9888.72751142141|6216957536|\n",
      "| 16904.62112942095|10142.772677652569|6216957537|\n",
      "|21015.455376526697|12609.273225916022|6216957538|\n",
      "|15306.037207322914|11364.644317948958|6216957539|\n",
      "|20105.463784968484| 19510.28317074973|6216957540|\n",
      "| 19988.67151432636| 18417.84532868785|6216957541|\n",
      "|19017.329090667736| 18693.00108988405|6216957542|\n",
      "|11894.121559746069|11598.012423874598|6216957543|\n",
      "| 7941.094348848722| 7108.617827780121|6216957544|\n",
      "| 8467.875941979953| 7692.609293382673|6216957545|\n",
      "| 8907.501048004413| 5344.500628802649|6226073976|\n",
      "|10622.003083937798| 6373.201850362679|6226073977|\n",
      "+------------------+------------------+----------+\n",
      "only showing top 20 rows\n",
      "\n"
     ]
    }
   ],
   "source": [
    "subdf.select(\"major_axis\", \"minor_axis\", num_field).show(vertical=False)"
   ]
  },
  {
   "cell_type": "markdown",
   "id": "d13f963e-fdbb-45cd-aa08-053419edb7f9",
   "metadata": {},
   "source": [
    "### Combine original attributes with ellipses"
   ]
  },
  {
   "cell_type": "code",
   "execution_count": 64,
   "id": "71c77d9a-92f7-43f9-be3b-c6f295650005",
   "metadata": {},
   "outputs": [
    {
     "data": {
      "text/plain": [
       "1861815"
      ]
     },
     "execution_count": 64,
     "metadata": {},
     "output_type": "execute_result"
    }
   ],
   "source": [
    "# write enriched version of dataset as parquet after processing (before spatiotemporal joins / interaction analysis)\n",
    "# all attributes in original + distance, delta_time, major & minor axes, angle, center point (geom + x & y), stdev ellipse\n",
    "\n",
    "subdf = subdf.join(ell, F.col(\"seq_ell\") == F.col(num_field))\\\n",
    "    .drop(\"tag_ell\", \"timestamp_ell\", \"seq_ell\")\n",
    "subdf.count()"
   ]
  },
  {
   "cell_type": "code",
   "execution_count": 70,
   "id": "75bf2977-0e9a-4c9a-8068-b00da5e4e045",
   "metadata": {},
   "outputs": [],
   "source": [
    "# ellipse = subdf.select(num_field, \"major_axis_point1\", \"major_axis_point2\", \"minor_axis_point1\", \"minor_axis_point2\")\n",
    "# ellipse = ellipse.withColumn(\"geometry\", F.array(\"major_axis_point1\", \"major_axis_point2\", \"minor_axis_point1\", \"minor_axis_point2\"))\n",
    "# ellipse.show()"
   ]
  },
  {
   "cell_type": "code",
   "execution_count": 67,
   "id": "e4c70505-ca9b-404d-833d-21d8cf572499",
   "metadata": {},
   "outputs": [],
   "source": [
    "subdf = subdf.withColumnRenamed(\"aggr_stdev_ellipse\", \"geom_PPA\")"
   ]
  },
  {
   "cell_type": "markdown",
   "id": "615772ad-cb6d-4bed-a11d-c41b3bd28613",
   "metadata": {},
   "source": [
    "## Write the Parquet\n"
   ]
  },
  {
   "cell_type": "code",
   "execution_count": 68,
   "id": "0ee14b83-d9f5-4d49-b7e9-e5aeb432f8d5",
   "metadata": {},
   "outputs": [
    {
     "data": {
      "text/plain": [
       "'geom_PPA'"
      ]
     },
     "execution_count": 68,
     "metadata": {},
     "output_type": "execute_result"
    }
   ],
   "source": [
    "subdf = subdf.st.set_geometry_field(\"geom_PPA\")\n",
    "subdf.st.get_geometry_field()"
   ]
  },
  {
   "cell_type": "code",
   "execution_count": 69,
   "id": "d2d20f3b-cb9d-402f-a1bb-fc9d16337b86",
   "metadata": {},
   "outputs": [
    {
     "name": "stdout",
     "output_type": "stream",
     "text": [
      "root\n",
      " |-- event-id: string (nullable = true)\n",
      " |-- individual-local-identifier: string (nullable = true)\n",
      " |-- location-lat: string (nullable = true)\n",
      " |-- location-long: string (nullable = true)\n",
      " |-- timestamp: timestamp (nullable = true)\n",
      " |-- geometry: point (nullable = true)\n",
      " |-- speed: string (nullable = true)\n",
      " |-- NDVI: double (nullable = true)\n",
      " |-- Temp: double (nullable = true)\n",
      " |-- tailwind: double (nullable = true)\n",
      " |-- crosswind: double (nullable = true)\n",
      " |-- prev_NDVI: double (nullable = true)\n",
      " |-- prev_Temp: double (nullable = true)\n",
      " |-- prev_tailwind: double (nullable = true)\n",
      " |-- prev_crosswind: double (nullable = true)\n",
      " |-- prev_lat: string (nullable = true)\n",
      " |-- prev_long: string (nullable = true)\n",
      " |-- prev_timestamp: timestamp (nullable = true)\n",
      " |-- prev_speed: string (nullable = true)\n",
      " |-- point_current: point (nullable = true)\n",
      " |-- point_previous: point (nullable = true)\n",
      " |-- distance: double (nullable = true)\n",
      " |-- delta_time: long (nullable = true)\n",
      " |-- new_speed_mps: double (nullable = true)\n",
      " |-- prev_new_speed_mps: double (nullable = true)\n",
      " |-- previous_five_speed: array (nullable = false)\n",
      " |    |-- element: double (containsNull = false)\n",
      " |-- average_speed: double (nullable = true)\n",
      " |-- major_axis: double (nullable = true)\n",
      " |-- minor_axis: double (nullable = true)\n",
      " |-- angle: double (nullable = true)\n",
      " |-- midpoint_lat: double (nullable = true)\n",
      " |-- midpoint_long: double (nullable = true)\n",
      " |-- midpoint_point: point (nullable = true)\n",
      " |-- time_diff: double (nullable = true)\n",
      " |-- major_axis_point1: point (nullable = true)\n",
      " |-- major_axis_point2: point (nullable = true)\n",
      " |-- minor_axis_point1: point (nullable = true)\n",
      " |-- minor_axis_point2: point (nullable = true)\n",
      " |-- axis_points: array (nullable = false)\n",
      " |    |-- element: point (containsNull = true)\n",
      " |-- geom_PPA: polygon (nullable = true)\n",
      "\n"
     ]
    }
   ],
   "source": [
    "subdf.printSchema()"
   ]
  },
  {
   "cell_type": "code",
   "execution_count": 72,
   "id": "8df1a8e1-a6be-4138-92b2-968afff171f3",
   "metadata": {},
   "outputs": [
    {
     "name": "stdout",
     "output_type": "stream",
     "text": [
      "CPU times: total: 62.5 ms\n",
      "Wall time: 1min 19s\n"
     ]
    }
   ],
   "source": [
    "%%time\n",
    "# writing a copy of the dataset so we don't need to re-process every time we want to use it for analysis\n",
    "subdf\\\n",
    "    .drop(\"axis_points\", \"major_axis\", \"major_axis_point1\", \"major_axis_point2\", \"midpoint_lat\", \"midpoint_long\",\n",
    "          \"midpoint_point\", \"minor_axis\", \"minor_axis_point1\", \"minor_axis_point2\", \"point_current\", \"point_previous\",\n",
    "          \"previous_five_speed\")\\\n",
    "    .write.format(\"parquet\").mode(\"overwrite\").save(fr\"../Result_parquet/Vulture_context.parquet\")"
   ]
  },
  {
   "cell_type": "markdown",
   "id": "3583f285-2a81-4caa-8a13-7c00074bbddd",
   "metadata": {},
   "source": [
    "## Write shapefile(s)"
   ]
  },
  {
   "cell_type": "code",
   "execution_count": 73,
   "id": "ea8c2023-0887-4361-87dc-9716cfb5f6b9",
   "metadata": {},
   "outputs": [],
   "source": [
    "# # write shapefile as sample\n",
    "# subdf\\\n",
    "#     .select(num_field, \"timestamp\", id_field, \"tag-local-identifier\", latitude_field, longitude_field, \"geom_PPA\")\\\n",
    "#     .coalesce(1)\\\n",
    "#     .write.format(\"shapefile\")\\\n",
    "#     .save(fr\"../Vulture_shapefile/Vulture_PPA.shp\")"
   ]
  },
  {
   "cell_type": "markdown",
   "id": "0b82d444-6f84-44ec-9a00-52dc31b644fc",
   "metadata": {},
   "source": [
    "## Misc to visualize results"
   ]
  },
  {
   "cell_type": "code",
   "execution_count": 74,
   "id": "ddcac7fb-4ee8-47df-811b-6167660b4db8",
   "metadata": {},
   "outputs": [
    {
     "name": "stdout",
     "output_type": "stream",
     "text": [
      "+-----------+---------------------------+------------+-------------+-------------------+--------------------+\n",
      "|   event-id|individual-local-identifier|location-lat|location-long|          timestamp|            geom_PPA|\n",
      "+-----------+---------------------------+------------+-------------+-------------------+--------------------+\n",
      "|10019870271|                    Versace|    40.09995|    -74.48692|2019-05-03 09:30:59|{\"rings\":[[[-74.4...|\n",
      "+-----------+---------------------------+------------+-------------+-------------------+--------------------+\n",
      "only showing top 1 row\n",
      "\n"
     ]
    }
   ],
   "source": [
    "subdf.select(num_field, id_field, latitude_field, longitude_field, \"timestamp\", \"geom_PPA\").show(1)"
   ]
  },
  {
   "cell_type": "markdown",
   "id": "5c2b3095-e853-4723-a841-6b4e14b4136e",
   "metadata": {},
   "source": [
    "### Plotting some quick results to look at the PPAs"
   ]
  },
  {
   "cell_type": "code",
   "execution_count": 75,
   "id": "99f741be-b99b-4791-9e3f-b340df3d9dca",
   "metadata": {},
   "outputs": [
    {
     "name": "stdout",
     "output_type": "stream",
     "text": [
      "CPU times: total: 594 ms\n",
      "Wall time: 1min 47s\n"
     ]
    },
    {
     "data": {
      "text/plain": [
       "<Axes: >"
      ]
     },
     "execution_count": 75,
     "metadata": {},
     "output_type": "execute_result"
    },
    {
     "data": {
      "image/png": "[encoded data removed]",
      "text/plain": [
       "<Figure size 1200x1200 with 1 Axes>"
      ]
     },
     "metadata": {},
     "output_type": "display_data"
    }
   ],
   "source": [
    "%%time\n",
    "# id 119xxx is nearer equator; 258xxx is ~53N; 120xxx is FAST and near equator\n",
    "# note that with the distortion in the plotted map, the locations farther from the equator get some interesting distortion\n",
    "id = 1197896275 #1013238207  # 1197896275 # 258155363 # 1202739038\n",
    "\n",
    "#PPA\n",
    "plt = subdf.where(F.col(num_field) == id )\\\n",
    "    .st.plot(alpha=0.3, edgecolor=\"blue\", basemap=\"light\", cmap_values=id_field, geometry=\"geom_PPA\", figsize=(12,12))\n",
    "\n",
    "# current and previous location\n",
    "subdf.where(F.col(num_field) == id)\\\n",
    "    .st.plot(color=\"black\", geometry=\"point_current\", ax=plt)\n",
    "\n",
    "subdf.where(F.col(num_field) == id)\\\n",
    "    .st.plot(color=\"black\", geometry=\"point_previous\", ax=plt)\n",
    "\n",
    "# midpoint\n",
    "subdf.where(F.col(num_field) == id)\\\n",
    "    .st.plot(color=\"red\", geometry=\"midpoint_point\", ax=plt)\n",
    "\n",
    "# major and minor axis points\n",
    "subdf.where(F.col(num_field) == id)\\\n",
    "    .st.plot(color=\"blue\", geometry=\"major_axis_point1\", ax=plt)\n",
    "\n",
    "subdf.where(F.col(num_field) == id)\\\n",
    "    .st.plot(color=\"blue\", geometry=\"major_axis_point2\", ax=plt)\n",
    "\n",
    "subdf.where(F.col(num_field) == id)\\\n",
    "    .st.plot(color=\"orange\", geometry=\"minor_axis_point2\", ax=plt)\n",
    "\n",
    "subdf.where(F.col(num_field) == id)\\\n",
    "    .st.plot(color=\"orange\", geometry=\"minor_axis_point1\", ax=plt)\n",
    "\n",
    "# line from midpoint to one end of major axis\n",
    "subdf.where(F.col(num_field) == id)\\\n",
    "    .select(ST.geodesic_shortest_line(\"midpoint_point\", \"major_axis_point1\"))\\\n",
    "    .st.plot(ax=plt)"
   ]
  },
  {
   "cell_type": "code",
   "execution_count": 77,
   "id": "7fb7ee18-430b-45a1-8057-4010953ac9f0",
   "metadata": {},
   "outputs": [],
   "source": [
    "# # plotting 10,000 points as a sample\n",
    "# plt = subdf.limit(10000)\\\n",
    "#     .st.plot(alpha=0.3, basemap=\"light\", cmap_values=id_field, geometry=\"geom_PPA\", legend=True)"
   ]
  },
  {
   "cell_type": "code",
   "execution_count": null,
   "id": "0de6caaa-ce85-419e-ad88-905a96e65804",
   "metadata": {},
   "outputs": [],
   "source": []
  }
 ],
 "metadata": {
  "kernelspec": {
   "display_name": "Python 3 (ipykernel)",
   "language": "python",
   "name": "python3"
  },
  "language_info": {
   "codemirror_mode": {
    "name": "ipython",
    "version": 3
   },
   "file_extension": ".py",
   "mimetype": "text/x-python",
   "name": "python",
   "nbconvert_exporter": "python",
   "pygments_lexer": "ipython3",
   "version": "3.8.18"
  }
 },
 "nbformat": 4,
 "nbformat_minor": 5
}
